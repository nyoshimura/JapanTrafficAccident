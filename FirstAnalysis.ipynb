{
 "cells": [
  {
   "cell_type": "code",
   "execution_count": 40,
   "metadata": {},
   "outputs": [],
   "source": [
    "import pandas as pd\n",
    "import matplotlib.pyplot as plt\n",
    "import folium\n",
    "import base64\n",
    "import branca\n",
    "import time\n",
    "%matplotlib inline"
   ]
  },
  {
   "cell_type": "markdown",
   "metadata": {},
   "source": [
    "Step 1. Visualize contents"
   ]
  },
  {
   "cell_type": "code",
   "execution_count": 2,
   "metadata": {
    "scrolled": true
   },
   "outputs": [
    {
     "name": "stdout",
     "output_type": "stream",
     "text": [
      "Index(['資料区分', '都道府県コード', '警察署等コード', '本票番号', '事故内容', '死者数', '負傷者数', '路線コード',\n",
      "       '上下線', '地点コード', '市区町村コード', '発生日時　　年', '発生日時　　月', '発生日時　　日', '発生日時　　時',\n",
      "       '発生日時　　分', '昼夜', '天候', '地形', '路面状態', '道路形状', '環状交差点の直径', '信号機',\n",
      "       '一時停止規制　標識（当事者A）', '一時停止規制　表示（当事者A）', '一時停止規制　標識（当事者B）',\n",
      "       '一時停止規制　表示（当事者B）', '車道幅員', '道路線形', '衝突地点', 'ゾーン規制', '中央分離帯施設等', '歩車道区分',\n",
      "       '事故類型', '年齢（当事者A）', '年齢（当事者B）', '当事者種別（当事者A）', '当事者種別（当事者B）',\n",
      "       '用途別（当事者A）', '用途別（当事者B）', '車両形状（当事者A）', '車両形状（当事者B）',\n",
      "       '速度規制（指定のみ）（当事者A）', '速度規制（指定のみ）（当事者B）', '車両の衝突部位（当事者A）',\n",
      "       '車両の衝突部位（当事者B）', '車両の損壊程度（当事者A）', '車両の損壊程度（当事者B）', 'エアバッグの装備（当事者A）',\n",
      "       'エアバッグの装備（当事者B）', 'サイドエアバッグの装備（当事者A）', 'サイドエアバッグの装備（当事者B）',\n",
      "       '人身損傷程度（当事者A）', '人身損傷程度（当事者B）', '地点　緯度（北緯）', '地点　経度（東経）', '曜日(発生年月日)',\n",
      "       '祝日(発生年月日)'],\n",
      "      dtype='object')\n"
     ]
    }
   ],
   "source": [
    "df = pd.read_csv(\"./honhyo_2019.csv\",encoding='cp932')\n",
    "print(df.columns)"
   ]
  },
  {
   "cell_type": "markdown",
   "metadata": {},
   "source": [
    "Step 2. High-light person accident location on map\n",
    " - Death is shown as red\n",
    " - Injury is shown as yellow"
   ]
  },
  {
   "cell_type": "code",
   "execution_count": 71,
   "metadata": {},
   "outputs": [],
   "source": [
    "def dms2dec(latlong_raw):\n",
    "    var_degree = int(latlong_raw/1e7)\n",
    "    var_minutes = int(latlong_raw/1e5 - var_degree*100) \n",
    "    var_seconds = (latlong_raw/1e3 - var_degree*1e4 - var_minutes*100)\n",
    "    decimal_latlong = var_degree + var_minutes/60 + var_seconds/3600\n",
    "    \n",
    "    return decimal_latlong\n",
    "\n",
    "def addLatLong2map(df_in, color_in, folium_map, legend_name, radius_size):\n",
    "    lgd_txt = '<span style=\"color: {col};\">{txt}</span>'\n",
    "    if (len(df_in) > 20000):\n",
    "        FeatureGroup_in = folium.FeatureGroup(name= lgd_txt.format( txt= legend_name, col= color_in), show=False)\n",
    "    else:\n",
    "        FeatureGroup_in = folium.FeatureGroup(name= lgd_txt.format( txt= legend_name, col= color_in))\n",
    "        \n",
    "    for index_df in range(len(df_in)):\n",
    "        _latitude = dms2dec(df_in[\"地点　緯度（北緯）\"][index_df])\n",
    "        _longitude = dms2dec(df_in[\"地点　経度（東経）\"][index_df])\n",
    "        if (df_in['当事者種別（当事者A）'][index_df] == 61):\n",
    "            _pedestrian_age = df_in['年齢（当事者A）'][index_df]\n",
    "        elif (df_in['当事者種別（当事者B）'][index_df] == 61):\n",
    "            _pedestrian_age = df_in['年齢（当事者B）'][index_df]\n",
    "        else:\n",
    "            _pedestrian_age = 999\n",
    "        gmap_html = 'https://www.google.com/maps/@{0},{1},0a,75y,90t/data=!3m3!1e1!3m1!2e0'.format(_latitude,_longitude)\n",
    "        gmap_str = \"<a href='{}'>Link to StreetView</a>\".format(gmap_html)\n",
    "        \n",
    "        popup_str = 'location: {0},{1}<br>'.format(_latitude, _longitude) + 'age: {}<br>'.format(_pedestrian_age)\n",
    "        popup_str += gmap_str\n",
    "        \n",
    "        popup=folium.Popup(popup_str, max_width=1000,show=False)\n",
    "        \n",
    "        folium.CircleMarker([_latitude, _longitude],\n",
    "                             radius=radius_size,color=color_in, popup=popup,\n",
    "                             fill=True,fill_opacity=0.9).add_to(FeatureGroup_in)\n",
    "    folium_map.add_child(FeatureGroup_in)\n",
    "        "
   ]
  },
  {
   "cell_type": "code",
   "execution_count": null,
   "metadata": {
    "scrolled": false
   },
   "outputs": [
    {
     "name": "stderr",
     "output_type": "stream",
     "text": [
      "C:\\Users\\uidp4921\\AppData\\Local\\Continuum\\miniconda3\\envs\\carnd-term1\\lib\\site-packages\\ipykernel_launcher.py:8: UserWarning: Boolean Series key will be reindexed to match DataFrame index.\n",
      "  \n",
      "C:\\Users\\uidp4921\\AppData\\Local\\Continuum\\miniconda3\\envs\\carnd-term1\\lib\\site-packages\\ipykernel_launcher.py:9: UserWarning: Boolean Series key will be reindexed to match DataFrame index.\n",
      "  if __name__ == '__main__':\n",
      "C:\\Users\\uidp4921\\AppData\\Local\\Continuum\\miniconda3\\envs\\carnd-term1\\lib\\site-packages\\ipykernel_launcher.py:11: UserWarning: Boolean Series key will be reindexed to match DataFrame index.\n",
      "  # This is added back by InteractiveShellApp.init_path()\n",
      "C:\\Users\\uidp4921\\AppData\\Local\\Continuum\\miniconda3\\envs\\carnd-term1\\lib\\site-packages\\ipykernel_launcher.py:12: UserWarning: Boolean Series key will be reindexed to match DataFrame index.\n",
      "  if sys.path[0] == '':\n"
     ]
    },
    {
     "name": "stdout",
     "output_type": "stream",
     "text": [
      "--- 10.724291324615479 seconds for accident loop ---\n",
      "--- 10.932741165161133 seconds until all loop ---\n"
     ]
    }
   ],
   "source": [
    "# create map\n",
    "folium_map = folium.Map(location=[35.415377, 139.595271], zoom_start=13)\n",
    "\n",
    "# for loop for lat/long\n",
    "df_person = df[df[\"事故類型\"]==1].reset_index()\n",
    "df_nodeath = df_person[df_person['死者数'] == 0].reset_index()\n",
    "del df_nodeath['index']\n",
    "df_young_A = df_nodeath[df_nodeath['当事者種別（当事者A）'] == 61][df_nodeath['年齢（当事者A）'] < 41]\n",
    "df_young_B = df_nodeath[df_nodeath['当事者種別（当事者B）'] == 61][df_nodeath['年齢（当事者B）'] < 41]\n",
    "df_young = pd.concat([df_young_A,df_young_B],axis=0).reset_index()\n",
    "df_old_A = df_nodeath[df_nodeath['当事者種別（当事者A）'] == 61][df_nodeath['年齢（当事者A）'] > 40]\n",
    "df_old_B = df_nodeath[df_nodeath['当事者種別（当事者B）'] == 61][df_nodeath['年齢（当事者B）'] > 40]\n",
    "df_old = pd.concat([df_old_A,df_old_B],axis=0).reset_index()\n",
    "df_death = df_person[df_person['死者数'] > 0].reset_index()\n",
    "\n",
    "start_time = time.time()\n",
    "\n",
    "addLatLong2map(df_old,'#ffa500',folium_map, 'pedestrian accident (age > 40)',2)\n",
    "addLatLong2map(df_young,'#ff0000',folium_map, 'pedestrian accident (age <= 40)',3)\n",
    "print(\"--- %s seconds for accident loop ---\" % (time.time() - start_time))\n",
    "\n",
    "addLatLong2map(df_death,'#000000',folium_map, 'pedestrian death',3)\n",
    "\n",
    "# turn on layer control\n",
    "folium_map.add_child(folium.map.LayerControl())\n",
    "\n",
    "print(\"--- %s seconds until all loop ---\" % (time.time() - start_time))\n",
    "    \n",
    "# save map\n",
    "folium_map.save('./docs/JapanTrafficAccident.html')\n",
    "print(\"--- %s seconds until save map ---\" % (time.time() - start_time))\n",
    "\n",
    "folium_map"
   ]
  },
  {
   "cell_type": "markdown",
   "metadata": {},
   "source": [
    "# Appendix"
   ]
  },
  {
   "cell_type": "code",
   "execution_count": 16,
   "metadata": {},
   "outputs": [
    {
     "data": {
      "text/html": [
       "<div>\n",
       "<style scoped>\n",
       "    .dataframe tbody tr th:only-of-type {\n",
       "        vertical-align: middle;\n",
       "    }\n",
       "\n",
       "    .dataframe tbody tr th {\n",
       "        vertical-align: top;\n",
       "    }\n",
       "\n",
       "    .dataframe thead th {\n",
       "        text-align: right;\n",
       "    }\n",
       "</style>\n",
       "<table border=\"1\" class=\"dataframe\">\n",
       "  <thead>\n",
       "    <tr style=\"text-align: right;\">\n",
       "      <th></th>\n",
       "      <th>年齢（当事者A）</th>\n",
       "      <th>年齢（当事者B）</th>\n",
       "      <th>当事者種別（当事者A）</th>\n",
       "      <th>当事者種別（当事者B）</th>\n",
       "      <th>死者数</th>\n",
       "    </tr>\n",
       "  </thead>\n",
       "  <tbody>\n",
       "    <tr>\n",
       "      <th>0</th>\n",
       "      <td>65</td>\n",
       "      <td>35</td>\n",
       "      <td>3</td>\n",
       "      <td>61</td>\n",
       "      <td>0</td>\n",
       "    </tr>\n",
       "    <tr>\n",
       "      <th>1</th>\n",
       "      <td>65</td>\n",
       "      <td>1</td>\n",
       "      <td>3</td>\n",
       "      <td>61</td>\n",
       "      <td>0</td>\n",
       "    </tr>\n",
       "    <tr>\n",
       "      <th>2</th>\n",
       "      <td>55</td>\n",
       "      <td>55</td>\n",
       "      <td>3</td>\n",
       "      <td>61</td>\n",
       "      <td>0</td>\n",
       "    </tr>\n",
       "    <tr>\n",
       "      <th>3</th>\n",
       "      <td>65</td>\n",
       "      <td>25</td>\n",
       "      <td>3</td>\n",
       "      <td>61</td>\n",
       "      <td>0</td>\n",
       "    </tr>\n",
       "    <tr>\n",
       "      <th>4</th>\n",
       "      <td>55</td>\n",
       "      <td>75</td>\n",
       "      <td>3</td>\n",
       "      <td>61</td>\n",
       "      <td>0</td>\n",
       "    </tr>\n",
       "  </tbody>\n",
       "</table>\n",
       "</div>"
      ],
      "text/plain": [
       "   年齢（当事者A）  年齢（当事者B）  当事者種別（当事者A）  当事者種別（当事者B）  死者数\n",
       "0        65        35            3           61    0\n",
       "1        65         1            3           61    0\n",
       "2        55        55            3           61    0\n",
       "3        65        25            3           61    0\n",
       "4        55        75            3           61    0"
      ]
     },
     "execution_count": 16,
     "metadata": {},
     "output_type": "execute_result"
    },
    {
     "data": {
      "image/png": "[encoded data removed]",
      "text/plain": [
       "<Figure size 432x288 with 1 Axes>"
      ]
     },
     "metadata": {
      "needs_background": "light"
     },
     "output_type": "display_data"
    }
   ],
   "source": [
    "df_person = df[df[\"事故類型\"]==1].reset_index()\n",
    "df_person['年齢（当事者A）'].hist(bins=50)\n",
    "df_person['年齢（当事者B）'].hist(bins=50, alpha=0.5)\n",
    "#test_location = [dms2dec(df_person[\"地点　緯度（北緯）\"][0]), dms2dec(df_person[\"地点　経度（東経）\"][0])]\n",
    "#print(test_location)\n",
    "df_person[['年齢（当事者A）', '年齢（当事者B）', '当事者種別（当事者A）', '当事者種別（当事者B）','死者数']].head()\n",
    "#df_person[df_person['当事者種別（当事者A）'] == 61]"
   ]
  },
  {
   "cell_type": "code",
   "execution_count": null,
   "metadata": {
    "scrolled": false
   },
   "outputs": [],
   "source": [
    "# visu 1: person vehicle accident rate\n",
    "Person_vehicle_accident_rate = len(df[df[\"事故類型\"]==1])/len(df)*100\n",
    "print(\"Person_vehicle_accident_rate = {:.2f}%\".format(Person_vehicle_accident_rate))\n",
    "\n",
    "# visu 2: monthly accident bar plot\n",
    "monthly_accident_count = df[df[\"事故類型\"]!=1].groupby(['発生日時　　年', '発生日時　　月']).size()\n",
    "monthly_person_accident_count = df[df[\"事故類型\"]==1].groupby(['発生日時　　年', '発生日時　　月']).size()\n",
    "df_monthly_count = pd.concat([monthly_accident_count, monthly_person_accident_count], axis=1)\n",
    "df_monthly_count.columns = [\"Others\",\"Person-Vehicle only\"]\n",
    "\n",
    "ax = df_monthly_count.plot(kind=\"bar\", figsize=(12,3), stacked=True, rot=45)\n",
    "ax.set_xlabel(\"date\")\n",
    "ax.set_ylabel(\"accident count\")\n",
    "ax.set_title(\"monthly accident\")\n",
    "ax.set_xlim(len(df_monthly_count) - 20,len(df_monthly_count))"
   ]
  },
  {
   "cell_type": "code",
   "execution_count": null,
   "metadata": {},
   "outputs": [],
   "source": []
  }
 ],
 "metadata": {
  "kernelspec": {
   "display_name": "Python 3",
   "language": "python",
   "name": "python3"
  },
  "language_info": {
   "codemirror_mode": {
    "name": "ipython",
    "version": 3
   },
   "file_extension": ".py",
   "mimetype": "text/x-python",
   "name": "python",
   "nbconvert_exporter": "python",
   "pygments_lexer": "ipython3",
   "version": "3.6.9"
  }
 },
 "nbformat": 4,
 "nbformat_minor": 2
}
