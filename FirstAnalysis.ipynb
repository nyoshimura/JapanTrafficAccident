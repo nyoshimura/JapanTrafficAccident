{
 "cells": [
  {
   "cell_type": "code",
   "execution_count": 73,
   "metadata": {},
   "outputs": [],
   "source": [
    "import pandas as pd\n",
    "import matplotlib.pyplot as plt\n",
    "%matplotlib inline"
   ]
  },
  {
   "cell_type": "markdown",
   "metadata": {},
   "source": [
    "Step 1. Visualize contents"
   ]
  },
  {
   "cell_type": "code",
   "execution_count": 11,
   "metadata": {
    "scrolled": true
   },
   "outputs": [
    {
     "name": "stdout",
     "output_type": "stream",
     "text": [
      "Index(['資料区分', '都道府県コード', '警察署等コード', '本票番号', '事故内容', '死者数', '負傷者数', '路線コード',\n",
      "       '上下線', '地点コード', '市区町村コード', '発生日時　　年', '発生日時　　月', '発生日時　　日', '発生日時　　時',\n",
      "       '発生日時　　分', '昼夜', '天候', '地形', '路面状態', '道路形状', '環状交差点の直径', '信号機',\n",
      "       '一時停止規制　標識（当事者A）', '一時停止規制　表示（当事者A）', '一時停止規制　標識（当事者B）',\n",
      "       '一時停止規制　表示（当事者B）', '車道幅員', '道路線形', '衝突地点', 'ゾーン規制', '中央分離帯施設等', '歩車道区分',\n",
      "       '事故類型', '年齢（当事者A）', '年齢（当事者B）', '当事者種別（当事者A）', '当事者種別（当事者B）',\n",
      "       '用途別（当事者A）', '用途別（当事者B）', '車両形状（当事者A）', '車両形状（当事者B）',\n",
      "       '速度規制（指定のみ）（当事者A）', '速度規制（指定のみ）（当事者B）', '車両の衝突部位（当事者A）',\n",
      "       '車両の衝突部位（当事者B）', '車両の損壊程度（当事者A）', '車両の損壊程度（当事者B）', 'エアバッグの装備（当事者A）',\n",
      "       'エアバッグの装備（当事者B）', 'サイドエアバッグの装備（当事者A）', 'サイドエアバッグの装備（当事者B）',\n",
      "       '人身損傷程度（当事者A）', '人身損傷程度（当事者B）', '地点　緯度（北緯）', '地点　経度（東経）', '曜日(発生年月日)',\n",
      "       '祝日(発生年月日)'],\n",
      "      dtype='object')\n"
     ]
    }
   ],
   "source": [
    "'''\n",
    "UnicodeDecodeError: 'utf-8' codec can't decode byte 0x8e in position 0: invalid start byte\n",
    "Solution: Try calling read_csv with encoding='cp932'\n",
    "'''\n",
    "df = pd.read_csv(\"./honhyo_2019.csv\",encoding='cp932')\n",
    "# long/lat conversion\n",
    "#df[\"latitude\"] = df[\"地点　緯度（北緯）\"]/10000000\n",
    "#df[\"longitude\"] = df[\"地点　経度（東経）\"]/10000000\n",
    "print(df.columns)"
   ]
  },
  {
   "cell_type": "markdown",
   "metadata": {},
   "source": [
    "Visu 1. Person-Vehicle accident rate"
   ]
  },
  {
   "cell_type": "code",
   "execution_count": 19,
   "metadata": {},
   "outputs": [
    {
     "name": "stdout",
     "output_type": "stream",
     "text": [
      "Person_vehicle_accident_rate = 11.78%\n"
     ]
    }
   ],
   "source": [
    "Person_vehicle_accident_rate = len(df[df[\"事故類型\"]==1])/len(df)*100\n",
    "print(\"Person_vehicle_accident_rate = {:.2f}%\".format(Person_vehicle_accident_rate))"
   ]
  },
  {
   "cell_type": "markdown",
   "metadata": {},
   "source": [
    "Visu 2. Monthly accident bar plot"
   ]
  },
  {
   "cell_type": "code",
   "execution_count": 96,
   "metadata": {
    "scrolled": false
   },
   "outputs": [
    {
     "data": {
      "text/plain": [
       "Text(0.5, 1.0, 'monthly accident')"
      ]
     },
     "execution_count": 96,
     "metadata": {},
     "output_type": "execute_result"
    },
    {
     "data": {
      "image/png": "[encoded data removed]",
      "text/plain": [
       "<Figure size 1008x288 with 1 Axes>"
      ]
     },
     "metadata": {
      "needs_background": "light"
     },
     "output_type": "display_data"
    }
   ],
   "source": [
    "monthly_accident_count = df[df[\"事故類型\"]!=1].groupby(['発生日時　　年', '発生日時　　月']).size()\n",
    "monthly_person_accident_count = df[df[\"事故類型\"]==1].groupby(['発生日時　　年', '発生日時　　月']).size()\n",
    "df_monthly_count = pd.concat([monthly_accident_count, monthly_person_accident_count], axis=1)\n",
    "df_monthly_count.columns = [\"Others\",\"Person-Vehicle only\"]\n",
    "\n",
    "ax = df_monthly_count.plot(kind=\"bar\", figsize=(14,4), stacked=True, rot=45)\n",
    "ax.set_xlabel(\"date\")\n",
    "ax.set_ylabel(\"accident count\")\n",
    "ax.set_title(\"monthly accident\")"
   ]
  },
  {
   "cell_type": "code",
   "execution_count": null,
   "metadata": {},
   "outputs": [],
   "source": []
  }
 ],
 "metadata": {
  "kernelspec": {
   "display_name": "Python 3",
   "language": "python",
   "name": "python3"
  },
  "language_info": {
   "codemirror_mode": {
    "name": "ipython",
    "version": 3
   },
   "file_extension": ".py",
   "mimetype": "text/x-python",
   "name": "python",
   "nbconvert_exporter": "python",
   "pygments_lexer": "ipython3",
   "version": "3.6.9"
  }
 },
 "nbformat": 4,
 "nbformat_minor": 2
}
